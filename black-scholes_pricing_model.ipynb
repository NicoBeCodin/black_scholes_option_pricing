{
 "cells": [
  {
   "cell_type": "code",
   "execution_count": 3,
   "id": "083176ac",
   "metadata": {},
   "outputs": [],
   "source": [
    "import math\n",
    "import numpy as np\n",
    "import scipy.stats as stats\n",
    "import matplotlib.pyplot as plt\n",
    "from ipywidgets import interact, interactive, fixed, interact_manual, FloatSlider, IntSlider, Button, VBox, HBox, Output\n",
    "import ipywidgets as widgets\n",
    "from IPython.display import display, clear_output"
   ]
  },
  {
   "cell_type": "code",
   "execution_count": 4,
   "id": "21ff4ed9",
   "metadata": {},
   "outputs": [],
   "source": [
    "#Give price of option according to Black-Scholes formula (no dividends)\n",
    "\n",
    "def black_scholes(call, S , K, t, r, sigma):\n",
    "    d_one = (np.log(S/K) + (r + (sigma**2)/2)*t)/(sigma*np.sqrt(t))\n",
    "    \n",
    "    d_two = d_one - sigma*np.sqrt(t)\n",
    "\n",
    "    res = S*stats.norm.cdf(d_one) - (stats.norm.cdf(d_two)*K*np.exp(-(r*t)))\n",
    "    if call:\n",
    "        return res\n",
    "    else:\n",
    "        return res - S + K*np.exp(-(r * t)) "
   ]
  },
  {
   "cell_type": "code",
   "execution_count": 11,
   "id": "28d99c42",
   "metadata": {},
   "outputs": [],
   "source": [
    "\n",
    "def update_heatmap(call, S, t, r, price_range, vol_range, detail):\n",
    "    \n",
    "    volatility_range = np.linspace(0.01,vol_range, detail)\n",
    "    strike_range = np.linspace(S-price_range,S+price_range, detail)\n",
    "\n",
    "    option_prices = np.zeros((len(volatility_range), len(strike_range)))\n",
    "\n",
    "    for i, sigma in enumerate(volatility_range):\n",
    "        for j, K in enumerate(strike_range):\n",
    "            option_prices[i,j] = black_scholes(call, S, K, t, r, sigma)\n",
    "\n",
    "    fig, ax = plt.subplots(figsize=(10,8))\n",
    "    cax = ax.imshow(option_prices, extent=[strike_range.min() - (strike_range[1] - strike_range[0]) / 2,\n",
    "                                           strike_range.max() + (strike_range[1] - strike_range[0]) / 2,\n",
    "                                           volatility_range.min()- (volatility_range[1] - volatility_range[0]) / 2,\n",
    "                                           volatility_range.max()+ (volatility_range[1] - volatility_range[0]) / 2],\n",
    "                   origin=\"lower\", aspect=\"auto\", cmap=\"plasma\")\n",
    "\n",
    "    if call:\n",
    "        option_type= \"Call\"\n",
    "    else:\n",
    "        option_type=\"Put\"\n",
    "        \n",
    "    title = option_type +  \" option price evolution relative to volatility and strike price\"\n",
    "    label = option_type + \" option price\"\n",
    "        \n",
    "    plt.colorbar(cax, label=label)\n",
    "    plt.title(title)\n",
    "    plt.xlabel(\"Strike price (K)\")\n",
    "    plt.ylabel(\"Volatility (σ)\")\n",
    "    \n",
    "\n",
    "    ax.set_xticks(strike_range)  # Align x-ticks with the strike prices\n",
    "    ax.set_yticks(volatility_range)  # Align y-ticks with the volatility values\n",
    "\n",
    "    # Optionally format the tick labels if there are too many\n",
    "    ax.xaxis.set_major_formatter(plt.FuncFormatter(lambda val, pos: f'{val:.0f}'))\n",
    "    ax.yaxis.set_major_formatter(plt.FuncFormatter(lambda val, pos: f'{val:.2f}'))\n",
    "    \n",
    "    fontsize =10\n",
    "    if detail==20:\n",
    "        fontsize = 7\n",
    "    if detail == 25:\n",
    "        fontsize = 6\n",
    "    \n",
    "    for i in range(option_prices.shape[0]):\n",
    "        for j in range(option_prices.shape[1]):\n",
    "            x_center = strike_range[j] \n",
    "            y_center = volatility_range[i] \n",
    "            \n",
    "            plt.text(x_center, y_center, f'{option_prices[i,j]:.2f}',\n",
    "                     ha='center', va='center', color='white', fontsize=fontsize)\n",
    "    \n",
    "    plt.show()"
   ]
  },
  {
   "cell_type": "code",
   "execution_count": 12,
   "id": "a20b52c2",
   "metadata": {},
   "outputs": [
    {
     "data": {
      "application/vnd.jupyter.widget-view+json": {
       "model_id": "4cc66ca1514140beb6407867f22650d8",
       "version_major": 2,
       "version_minor": 0
      },
      "text/plain": [
       "VBox(children=(HBox(children=(FloatSlider(value=100.0, description='Spot Price', layout=Layout(width='500px'),…"
      ]
     },
     "metadata": {},
     "output_type": "display_data"
    }
   ],
   "source": [
    "S = FloatSlider(min=50, max=150, step=1, value=100, description=\"Spot Price\", \n",
    "                layout={'width': '500px'})\n",
    "t = FloatSlider(min=1/365, max=3, step=3/365, value=1, description=\"Time to Expiry (years)\", \n",
    "                layout={'width': '500px'})\n",
    "r = FloatSlider(min=0.00, max=0.1, step=0.005, value=0.04, description=\"Risk-Free Rate\", \n",
    "                layout={'width': '500px'})\n",
    "price_range = IntSlider(min=5, max=50, step=1, value=10, description=\"K range\", \n",
    "                        layout={'width': '500px'})\n",
    "vol_range = FloatSlider(min=0.1, max=3, step=0.01, value=1, description=\"σ range\", \n",
    "                        layout={'width': '500px'})\n",
    "detail = IntSlider(min=5, max=25, step=5, value=10, description=\"Grid Detail\", \n",
    "                   layout={'width': '500px'})\n",
    "\n",
    "button = Button(description=\"Calculate\", button_style='success', \n",
    "                layout={'width': '200px', 'padding': '1px'})\n",
    "\n",
    "output=Output()\n",
    "\n",
    "def button_click(b):\n",
    "    with output:\n",
    "        clear_output(wait=\"True\")\n",
    "        update_heatmap(True, S.value, t.value, r.value, price_range.value,vol_range.value, detail.value)\n",
    "        update_heatmap(False, S.value, t.value, r.value, price_range.value, vol_range.value, detail.value)\n",
    "        \n",
    "\n",
    "button.on_click(button_click)\n",
    "\n",
    "ui = VBox([\n",
    "    HBox([S]), \n",
    "    HBox([t]), \n",
    "    HBox([r]), \n",
    "    HBox([price_range]), \n",
    "    HBox([vol_range]), \n",
    "    HBox([detail]),\n",
    "    HBox([button]), \n",
    "    output\n",
    "])\n",
    "\n",
    "display(ui)"
   ]
  }
 ],
 "metadata": {
  "kernelspec": {
   "display_name": "Python 3 (ipykernel)",
   "language": "python",
   "name": "python3"
  },
  "language_info": {
   "codemirror_mode": {
    "name": "ipython",
    "version": 3
   },
   "file_extension": ".py",
   "mimetype": "text/x-python",
   "name": "python",
   "nbconvert_exporter": "python",
   "pygments_lexer": "ipython3",
   "version": "3.9.13"
  }
 },
 "nbformat": 4,
 "nbformat_minor": 5
}
